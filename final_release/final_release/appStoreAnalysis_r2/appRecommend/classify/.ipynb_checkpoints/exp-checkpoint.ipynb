{
 "cells": [
  {
   "cell_type": "code",
   "execution_count": 1,
   "metadata": {},
   "outputs": [],
   "source": [
    "import pandas as pd\n",
    "import numpy as np\n",
    "import pickle\n",
    "from sklearn.model_selection import train_test_split\n",
    "from sklearn.feature_extraction.text import TfidfVectorizer\n",
    "from sklearn.pipeline import Pipeline\n",
    "from sklearn.linear_model import LogisticRegression\n",
    "from sklearn.multiclass import OneVsRestClassifier"
   ]
  },
  {
   "cell_type": "code",
   "execution_count": 4,
   "metadata": {},
   "outputs": [
    {
     "name": "stdout",
     "output_type": "stream",
     "text": [
      "(27,)\n"
     ]
    }
   ],
   "source": [
    "f1 = open(\"google_refine.txt\", \"r\", encoding=\"utf8\")\n",
    "rev_data = f1.read()\n",
    "rev_list = rev_data.split('\\n')\n",
    "rev_list = [sent for sent in rev_list if sent != '']\n",
    "f1.close()\n",
    "\n",
    "size = len(rev_list)\n",
    "test_text = np.asarray(rev_list)"
   ]
  },
  {
   "cell_type": "code",
   "execution_count": 5,
   "metadata": {},
   "outputs": [],
   "source": [
    "vectorizer = pickle.load(open(\"vectorizer.pickle\", \"rb\"))\n",
    "\n",
    "x_test = vectorizer.transform(test_text)"
   ]
  },
  {
   "cell_type": "markdown",
   "metadata": {},
   "source": [
    "# Multi-class classification (only BOW, excluding metadata)"
   ]
  },
  {
   "cell_type": "markdown",
   "metadata": {},
   "source": [
    "## Multiple Binary Classifications - (One Vs Rest Classifier)"
   ]
  },
  {
   "cell_type": "code",
   "execution_count": 6,
   "metadata": {},
   "outputs": [],
   "source": [
    "classifier_b = pickle.load(open(\"classifier_b.pickle\", \"rb\"))\n",
    "classifier_f = pickle.load(open(\"classifier_f.pickle\", \"rb\"))\n",
    "classifier_r = pickle.load(open(\"classifier_r.pickle\", \"rb\"))\n",
    "classifier_u = pickle.load(open(\"classifier_u.pickle\", \"rb\"))\n",
    "\n",
    "prediction_b = classifier_b.predict(x_test)\n",
    "prediction_f = classifier_f.predict(x_test)\n",
    "prediction_r = classifier_r.predict(x_test)\n",
    "prediction_u = classifier_u.predict(x_test)"
   ]
  },
  {
   "cell_type": "code",
   "execution_count": 7,
   "metadata": {},
   "outputs": [
    {
     "name": "stdout",
     "output_type": "stream",
     "text": [
      "[0 1 1 0 0 0 0 0 0 0 0 0 0 0 0 1 0 0 1 0 0 1 0 0 0 0 0]\n",
      "[0 0 0 0 0 0 0 0 0 0 0 0 0 0 0 0 0 0 0 0 0 0 0 0 0 0 0]\n",
      "[0 0 0 0 0 0 0 0 0 0 0 0 0 0 0 0 0 0 0 0 0 0 0 0 0 0 0]\n",
      "[1 0 0 1 1 0 1 1 0 0 1 1 1 0 0 0 1 1 0 1 0 0 0 1 1 1 1]\n"
     ]
    }
   ],
   "source": [
    "print(prediction_b)\n",
    "print(prediction_f)\n",
    "print(prediction_r)\n",
    "print(prediction_u)"
   ]
  },
  {
   "cell_type": "code",
   "execution_count": null,
   "metadata": {},
   "outputs": [],
   "source": []
  }
 ],
 "metadata": {
  "kernelspec": {
   "display_name": "Python 3",
   "language": "python",
   "name": "python3"
  },
  "language_info": {
   "codemirror_mode": {
    "name": "ipython",
    "version": 3
   },
   "file_extension": ".py",
   "mimetype": "text/x-python",
   "name": "python",
   "nbconvert_exporter": "python",
   "pygments_lexer": "ipython3",
   "version": "3.7.3"
  }
 },
 "nbformat": 4,
 "nbformat_minor": 2
}
